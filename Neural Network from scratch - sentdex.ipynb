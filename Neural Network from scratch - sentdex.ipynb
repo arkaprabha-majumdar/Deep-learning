{
 "cells": [
  {
   "cell_type": "code",
   "execution_count": 2,
   "metadata": {},
   "outputs": [],
   "source": [
    "import numpy as np\n",
    "np.random.seed(2020)"
   ]
  },
  {
   "cell_type": "code",
   "execution_count": 7,
   "metadata": {},
   "outputs": [
    {
     "name": "stdout",
     "output_type": "stream",
     "text": [
      "Enter rows : 3\n",
      "Enter columns : 4\n"
     ]
    },
    {
     "data": {
      "text/plain": [
       "array([[ 0.06472931, -0.37710168,  0.30283787, -0.37303677],\n",
       "       [-0.66150843,  1.44234742,  2.13703389,  2.77588498],\n",
       "       [ 2.55018558,  2.72823587,  0.54400777,  1.26985124]])"
      ]
     },
     "execution_count": 7,
     "metadata": {},
     "output_type": "execute_result"
    }
   ],
   "source": [
    "#Let's create the input\n",
    "X=[]\n",
    "n_rows=int(input(\"Enter rows : \"))\n",
    "n_cols=int(input(\"Enter columns : \"))\n",
    "\n",
    "for i in range(n_rows):\n",
    "    X_rows=[]\n",
    "    for j in range(n_cols):\n",
    "        X_rows.append(np.random.uniform(-1,3))\n",
    "    X.append(X_rows)\n",
    "X=np.array(X).reshape((3,4))\n",
    "X"
   ]
  },
  {
   "cell_type": "code",
   "execution_count": 14,
   "metadata": {},
   "outputs": [],
   "source": [
    "#Next we create layers through class objects\n",
    "class Layer_dense:\n",
    "    def __init__(self,n_inputs,n_neurons):\n",
    "        self.weights = 0.1 * np.random.randn(n_inputs,n_neurons) #initialize weights\n",
    "        self.biases = np.zeros((1,n_neurons)) #one bias per neuron\n",
    "    def forward(self,inputs):\n",
    "        self.output = np.dot(inputs, self.weights) + self.biases"
   ]
  },
  {
   "cell_type": "code",
   "execution_count": 15,
   "metadata": {},
   "outputs": [],
   "source": [
    "#Hence, we can now create any number of layers:\n",
    "layer1 = Layer_dense(4,5)\n",
    "layer2 = Layer_dense(5,2)"
   ]
  },
  {
   "cell_type": "code",
   "execution_count": 16,
   "metadata": {},
   "outputs": [
    {
     "name": "stdout",
     "output_type": "stream",
     "text": [
      "[[ 0.0016788  -0.15854329 -0.1063009   0.02825316 -0.05246507]\n",
      " [ 0.01663756  0.33785223 -0.3501309  -0.77473849 -0.20282077]\n",
      " [-0.19122752  0.16900033 -0.5024816  -0.39323234  0.10808751]]\n"
     ]
    }
   ],
   "source": [
    "#and call each of the methods to get weights and biases\n",
    "layer1.forward(X) #forward propagate inputs\n",
    "print(layer1.output)"
   ]
  },
  {
   "cell_type": "code",
   "execution_count": 17,
   "metadata": {},
   "outputs": [
    {
     "name": "stdout",
     "output_type": "stream",
     "text": [
      "[[ 0.0046082   0.00621215]\n",
      " [ 0.11736978 -0.09342035]\n",
      " [ 0.0053907  -0.02026518]]\n"
     ]
    }
   ],
   "source": [
    "layer2.forward(layer1.output) #since output of layer 1 is input of layer 2 !\n",
    "print(layer2.output)"
   ]
  },
  {
   "cell_type": "markdown",
   "metadata": {},
   "source": [
    "We are still missing our activation function, so let's do that"
   ]
  },
  {
   "cell_type": "code",
   "execution_count": null,
   "metadata": {},
   "outputs": [],
   "source": []
  }
 ],
 "metadata": {
  "kernelspec": {
   "display_name": "Python 3",
   "language": "python",
   "name": "python3"
  },
  "language_info": {
   "codemirror_mode": {
    "name": "ipython",
    "version": 3
   },
   "file_extension": ".py",
   "mimetype": "text/x-python",
   "name": "python",
   "nbconvert_exporter": "python",
   "pygments_lexer": "ipython3",
   "version": "3.8.2"
  }
 },
 "nbformat": 4,
 "nbformat_minor": 4
}
