{
 "cells": [
  {
   "cell_type": "markdown",
   "metadata": {},
   "source": [
    "OpenCV notebook - ©Arkaprabha Majumdar"
   ]
  },
  {
   "cell_type": "markdown",
   "metadata": {},
   "source": [
    "## #1. Straight Line detection"
   ]
  },
  {
   "cell_type": "markdown",
   "metadata": {},
   "source": [
    "There are two methods to detect straight lines in OpenCV:\n",
    "\n",
    "\n",
    "    Hough lines\n",
    "    Probabilistic Hough lines"
   ]
  },
  {
   "cell_type": "markdown",
   "metadata": {},
   "source": [
    "### Hough Lines"
   ]
  },
  {
   "cell_type": "code",
   "execution_count": 6,
   "metadata": {},
   "outputs": [
    {
     "name": "stdout",
     "output_type": "stream",
     "text": [
      "444.0 1.37881\n",
      "336.0 1.553343\n",
      "592.0 0.2268928\n",
      "261.0 1.727876\n",
      "353.0 1.5184364\n",
      "550.0 0.06981317\n",
      "323.0 1.5707964\n",
      "348.0 1.5358897\n",
      "-488.0 3.0368729\n",
      "-420.0 2.8797932\n",
      "-479.0 3.0194197\n",
      "-409.0 2.86234\n"
     ]
    }
   ],
   "source": [
    "import cv2\n",
    "import numpy as np\n",
    "\n",
    "img=cv2.pyrDown(cv2.imread(\"/home/arkaprabham/Desktop/Deep_Learning_Udemy/img/road.jpg\"))\n",
    "\n",
    "#grayscale\n",
    "grayed=cv2.cvtColor(img,cv2.COLOR_BGR2GRAY)\n",
    "#denoise\n",
    "denoised=cv2.GaussianBlur(grayed,(5,5),3)\n",
    "black_bg=np.zeros(img.shape)\n",
    "#edges\n",
    "edges=cv2.Canny(denoised,90,170)\n",
    "cnt,h=cv2.findContours(edges,2,1)\n",
    "for c in cnt:\n",
    "    approx=cv2.approxPolyDP(c,0.01*cv2.arcLength(c,True),True)\n",
    "    cv2.drawContours(black_bg,[approx], -1, (0, 255, 0), 1)\n",
    "cv2.imshow(\"approx poly\",black_bg)\n",
    "cv2.waitKey(0)\n",
    "\n",
    "edges=cv2.morphologyEx(edges,cv2.MORPH_CLOSE,(3,3))\n",
    "\n",
    "lines=cv2.HoughLines(edges,1,np.pi/180,130)\n",
    "'''\n",
    "It returns a list of tuples of rho, theta:\n",
    "        rho=perpendicular dist. from origin(top left corner)\n",
    "        theta=angle formed by the normal of this line to origin\n",
    "rho accuracy is of 1 pixel\n",
    "theta accuracy is of 1 degree(np.pi/180)\n",
    "threshold =240 (no. of points on a line)\n",
    "'''\n",
    "color=21\n",
    "for line in lines:\n",
    "    for rho,theta in line:\n",
    "        print(rho,theta)\n",
    "        a=np.cos(theta)\n",
    "        b=np.sin(theta)\n",
    "        x0=a*rho\n",
    "        y0=b*rho\n",
    "        x1=int(x0+1000*(-b))\n",
    "        y1=int(y0+1000*(a))\n",
    "        x2=int(x0-1000*(-b))\n",
    "        y2=int(y0-1000*(a))\n",
    "        cv2.line(black_bg,(x1,y1),(x2,y2),(0,0,255),2)\n",
    "        cv2.imshow(\"Hough Lines\",black_bg)\n",
    "        cv2.waitKey(0)\n",
    "        color+10\n",
    "\n",
    "cv2.destroyAllWindows()"
   ]
  },
  {
   "cell_type": "markdown",
   "metadata": {},
   "source": [
    "Tbh, this method gave really bad results for many images...BUT you can average the lines with same gradient.\n",
    "\n",
    "Also, you can tune the parameter of \"# of points\" to better the results."
   ]
  },
  {
   "cell_type": "markdown",
   "metadata": {},
   "source": [
    "### Probabilistic Hough Lines"
   ]
  },
  {
   "cell_type": "code",
   "execution_count": 3,
   "metadata": {},
   "outputs": [],
   "source": [
    "import cv2\n",
    "import numpy as np\n",
    "\n",
    "img=cv2.pyrDown(cv2.imread(\"/home/arkaprabham/Desktop/Deep_Learning_Udemy/img/shape scenery.jpg\"))\n",
    "#grayscale\n",
    "grayed=cv2.cvtColor(img,cv2.COLOR_BGR2GRAY)\n",
    "#denoise\n",
    "denoised=cv2.GaussianBlur(grayed,(5,5),3)\n",
    "\n",
    "black_bg=np.zeros(img.shape)\n",
    "#edges\n",
    "edges=cv2.Canny(denoised,90,170)\n",
    "cnt,h=cv2.findContours(edges,2,1)\n",
    "for c in cnt:\n",
    "    approx=cv2.approxPolyDP(c,0.01*cv2.arcLength(c,True),True)\n",
    "    cv2.drawContours(black_bg,[approx], -1, (255, 0, 255), 1)\n",
    "cv2.imshow(\"approx poly\",black_bg)\n",
    "cv2.waitKey(0)\n",
    "\n",
    "p_lines=cv2.HoughLinesP(edges,3,np.pi/180,100,50)\n",
    "\n",
    "color=100\n",
    "for line in p_lines:\n",
    "    for x1,y1,x2,y2 in line:\n",
    "        cv2.line(black_bg,(x1,y1),(x2,y2),(255,color+52,color-15),2)\n",
    "        cv2.imshow(\"Prob hough lines\",black_bg)\n",
    "        cv2.waitKey(0)\n",
    "        lines=cv2.HoughLines(edges,1,np.pi/180,200)\n",
    "        color+10\n",
    "\n",
    "cv2.destroyAllWindows()"
   ]
  },
  {
   "cell_type": "markdown",
   "metadata": {},
   "source": [
    "Play around with the parameters above to get more refined lines. Also, there are a few ways to merge these lines, but they are all quite complicated algorithms.\n",
    "\n",
    "Check out this discussion:\n",
    "https://stackoverflow.com/questions/45531074/how-to-merge-lines-after-houghlinesp"
   ]
  },
  {
   "cell_type": "markdown",
   "metadata": {},
   "source": [
    "### Circle detection"
   ]
  },
  {
   "cell_type": "code",
   "execution_count": 6,
   "metadata": {},
   "outputs": [],
   "source": [
    "import cv2\n",
    "import numpy as np\n",
    "\n",
    "img=cv2.pyrDown(cv2.imread(\"/home/arkaprabham/Desktop/Deep_Learning_Udemy/img/different-shapes-vector-1381455.jpg\"))\n",
    "#grayscale\n",
    "grayed=cv2.cvtColor(img,cv2.COLOR_BGR2GRAY)\n",
    "#denoise\n",
    "denoised=cv2.GaussianBlur(grayed,(5,5),3)\n",
    "\n",
    "black_bg=np.zeros(img.shape)\n",
    "#edges\n",
    "edges=cv2.Canny(denoised,90,170)\n",
    "cnt,h=cv2.findContours(edges,2,1)\n",
    "for c in cnt:\n",
    "    approx=cv2.approxPolyDP(c,0.01*cv2.arcLength(c,True),True)\n",
    "    cv2.drawContours(black_bg,[approx], -1, (255, 0, 255), 1)\n",
    "cv2.imshow(\"approx poly\",black_bg)\n",
    "cv2.waitKey(0)\n",
    "\n",
    "# Apply hough transform on the image\n",
    "circles = cv2.HoughCircles(edges, cv2.HOUGH_GRADIENT, 1, 100, param1=200, param2=10, minRadius=5, maxRadius=30)\n",
    "# Draw detected circles\n",
    "if circles is not None:\n",
    "    circles = np.uint16(np.around(circles))\n",
    "    for i in circles[0, :]:\n",
    "        # Draw outer circle\n",
    "        cv2.circle(img, (i[0], i[1]), i[2], (0, 255, 0), 2)\n",
    "        # Draw inner circle\n",
    "        cv2.circle(img, (i[0], i[1]), 2, (0, 0, 255), 3)\n",
    "        cv2.imshow(\"Prob hough lines\",img)\n",
    "        cv2.waitKey(0)\n",
    "\n",
    "cv2.destroyAllWindows()"
   ]
  },
  {
   "cell_type": "markdown",
   "metadata": {},
   "source": [
    "Well, it works...mostly ! 😅"
   ]
  },
  {
   "cell_type": "markdown",
   "metadata": {},
   "source": [
    "### Blob Detection"
   ]
  },
  {
   "cell_type": "markdown",
   "metadata": {},
   "source": [
    "What are blobs? They are not clearly defined, and are generically identical."
   ]
  },
  {
   "cell_type": "code",
   "execution_count": 21,
   "metadata": {},
   "outputs": [],
   "source": [
    "import cv2\n",
    "import numpy as np\n",
    "img=cv2.imread(\"/home/arkaprabham/Desktop/Deep_Learning_Udemy/img/microorganism.jpg\",0)\n",
    "image=cv2.pyrDown(img,4)\n",
    "\n",
    "\n",
    "#denoise\n",
    "image=cv2.GaussianBlur(image,(5,5),5)\n",
    "\n",
    "#detector with default parameters.\n",
    "detector = cv2.SimpleBlobDetector_create()\n",
    "\n",
    "# Detect blobs.\n",
    "keypoints = detector.detect(image)\n",
    "\n",
    "# cv2.DRAW_MATCHES_FLAGS_DRAW_RICH_KEYPOINTS ensures the size of the circle corresponds to the size of blob\n",
    "im_with_keypoints = cv2.drawKeypoints(image, keypoints, np.array([]), (0,0,255), cv2.DRAW_MATCHES_FLAGS_DRAW_RICH_KEYPOINTS)\n",
    "\n",
    "\n",
    "cv2.imshow(\"Keypoints\", im_with_keypoints)\n",
    "\n",
    "cv2.waitKey(0)\n",
    "cv2.destroyAllWindows()"
   ]
  },
  {
   "cell_type": "markdown",
   "metadata": {},
   "source": [
    "We can also use params inside this blob detector:\n",
    "\n",
    "    Area\n",
    "\n",
    "    Circularity\n",
    "    \n",
    "    Convexity\n",
    "    \n",
    "    inertia"
   ]
  },
  {
   "cell_type": "code",
   "execution_count": 1,
   "metadata": {},
   "outputs": [],
   "source": [
    "import cv2\n",
    "import numpy as np\n",
    "img=cv2.imread(\"/home/arkaprabham/Desktop/Deep_Learning_Udemy/img/microorganism.jpg\",0)\n",
    "image=cv2.pyrDown(img,4)\n",
    "\n",
    "\n",
    "#denoise\n",
    "image=cv2.GaussianBlur(image,(5,5),5)\n",
    "\n",
    "params = cv2.SimpleBlobDetector_Params()\n",
    "params.minThreshold = 1\n",
    "params.maxThreshold = 255\n",
    "params.filterByArea = True\n",
    "params.minArea = 1 #perect circles\n",
    "params.filterByCircularity = False\n",
    "params.filterByConvexity = False\n",
    "params.filterByInertia = False\n",
    "#detector with default parameters.\n",
    "detector = cv2.SimpleBlobDetector_create(params)\n",
    "\n",
    "# Detect blobs.\n",
    "keypoints = detector.detect(image)\n",
    "\n",
    "# cv2.DRAW_MATCHES_FLAGS_DRAW_RICH_KEYPOINTS ensures the size of the circle corresponds to the size of blob\n",
    "im_with_keypoints = cv2.drawKeypoints(image, keypoints, np.array([]), (0,0,255), cv2.DRAW_MATCHES_FLAGS_DRAW_RICH_KEYPOINTS)\n",
    "\n",
    "\n",
    "cv2.imshow(\"Keypoints\", im_with_keypoints)\n",
    "\n",
    "cv2.waitKey(0)\n",
    "cv2.destroyAllWindows()"
   ]
  },
  {
   "cell_type": "code",
   "execution_count": null,
   "metadata": {},
   "outputs": [],
   "source": []
  }
 ],
 "metadata": {
  "kernelspec": {
   "display_name": "Python 3",
   "language": "python",
   "name": "python3"
  },
  "language_info": {
   "codemirror_mode": {
    "name": "ipython",
    "version": 3
   },
   "file_extension": ".py",
   "mimetype": "text/x-python",
   "name": "python",
   "nbconvert_exporter": "python",
   "pygments_lexer": "ipython3",
   "version": "3.8.2"
  }
 },
 "nbformat": 4,
 "nbformat_minor": 4
}
