{
 "cells": [
  {
   "cell_type": "markdown",
   "metadata": {},
   "source": [
    "OpenCV notebook - ©Arkaprabha Majumdar"
   ]
  },
  {
   "cell_type": "code",
   "execution_count": 1,
   "metadata": {},
   "outputs": [],
   "source": [
    "import numpy as np\n",
    "import cv2"
   ]
  },
  {
   "cell_type": "code",
   "execution_count": 2,
   "metadata": {},
   "outputs": [],
   "source": [
    "input_image = cv2.imread(\"/home/arkaprabham/Desktop/Deep_Learning_Udemy/img/Animals/cat.jpg\")#np.random.randint(0,255,(28,28,3),\"duint8\")\n",
    "X = cv2.resize(input_image,(400,400))\n",
    "cv2.imshow(\"Random created image\",X)\n",
    "cv2.waitKey(0)\n",
    "cv2.destroyAllWindows()"
   ]
  },
  {
   "cell_type": "code",
   "execution_count": 5,
   "metadata": {
    "scrolled": true
   },
   "outputs": [],
   "source": [
    "def conv(X):\n",
    "    X = cv2.cvtColor(X,cv2.COLOR_BGR2GRAY)\n",
    "    X = \n",
    "    edge_kernels = [np.array([[1,0,-1],[0,0,0],[-1,0,1]]),\n",
    "                    np.array([[0,1,0],[1,-4,1],[0,1,0]]),\n",
    "                    np.array([[-1,-1,-1],[-1,8,-1],[-1,-1,-1]])]\n",
    "    \n",
    "    sharpen = np.array([[0,-1,0],[-1,5,-1],[0,-1,0]])\n",
    "    \n",
    "    sharpen = np.array([[0,-1,0],[-1,5,-1],[0,-1,0]])\n",
    "    blur_kernels = [1/9*np.array([[1,1,1],[1,1,1],[1,1,1]]),\n",
    "                    1/16*np.array([[1,2,1],[2,4,2],[1,2,1]])]\n",
    "    \n",
    "    mat_list=[]\n",
    "    count=0\n",
    "    kernel_list = [edge_kernels[0],\n",
    "                   edge_kernels[1],\n",
    "                   edge_kernels[2],\n",
    "                   sharpen,\n",
    "                   blur_kernels[0],\n",
    "                   blur_kernels[1]]\n",
    "    for ker in kernel_list:\n",
    "        print(count)\n",
    "        mat = np.zeros((X.shape[0]-2,X.shape[1]-2))\n",
    "        for i in range(mat.shape[0]-2):\n",
    "            for j in range(mat.shape[1]-2):\n",
    "                mat[i][j] = np.sum(np.dot(X[i:i+3,j:j+3],ker))\n",
    "        mat_list.append(mat)\n",
    "        count+=1\n",
    "    return np.array(mat_list)"
   ]
  },
  {
   "cell_type": "code",
   "execution_count": 6,
   "metadata": {},
   "outputs": [
    {
     "name": "stdout",
     "output_type": "stream",
     "text": [
      "0\n",
      "1\n",
      "2\n",
      "3\n",
      "4\n",
      "5\n"
     ]
    }
   ],
   "source": [
    "convoluted_box = conv(X)"
   ]
  },
  {
   "cell_type": "code",
   "execution_count": 7,
   "metadata": {},
   "outputs": [
    {
     "data": {
      "text/plain": [
       "array([[ 81.,   9.,  -9., ...,   0.,   0.,   0.],\n",
       "       [ 81.,   9.,  -9., ...,   0.,   0.,   0.],\n",
       "       [ 81.,   6.,  -6., ...,   3.,   0.,   0.],\n",
       "       ...,\n",
       "       [261., -81.,   6., ...,  -3.,   0.,   0.],\n",
       "       [  0.,   0.,   0., ...,   0.,   0.,   0.],\n",
       "       [  0.,   0.,   0., ...,   0.,   0.,   0.]])"
      ]
     },
     "execution_count": 7,
     "metadata": {},
     "output_type": "execute_result"
    }
   ],
   "source": [
    "convoluted_box[2]"
   ]
  },
  {
   "cell_type": "code",
   "execution_count": 8,
   "metadata": {},
   "outputs": [],
   "source": [
    "def relu(Conv):\n",
    "    for row in range(Conv.shape[0]):\n",
    "        for col in range(Conv.shape[1]):\n",
    "            if Conv[row,col]<0:\n",
    "                Conv[row,col]=0\n",
    "    return Conv"
   ]
  },
  {
   "cell_type": "code",
   "execution_count": 9,
   "metadata": {},
   "outputs": [],
   "source": [
    "relu_box = []\n",
    "for layer in convoluted_box:\n",
    "    relu_box.append(relu(layer))"
   ]
  },
  {
   "cell_type": "code",
   "execution_count": 10,
   "metadata": {},
   "outputs": [],
   "source": [
    "for layer in relu_box:\n",
    "    cv2.imshow(\"ReLu image\",layer)\n",
    "    cv2.waitKey(0)\n",
    "cv2.destroyAllWindows()"
   ]
  },
  {
   "cell_type": "code",
   "execution_count": 24,
   "metadata": {},
   "outputs": [],
   "source": [
    "def pooling(mat):\n",
    "    pooled=np.zeros(mat.shape)\n",
    "    for i in range(mat.shape[0]-1):\n",
    "        for j in range(0,mat.shape[1]-1,2):\n",
    "            pooled[i][j] = np.max(mat[i:i+2,j:j+2])\n",
    "    return pooled"
   ]
  },
  {
   "cell_type": "code",
   "execution_count": 25,
   "metadata": {},
   "outputs": [],
   "source": [
    "pool_box = []\n",
    "for layer in relu_box:\n",
    "    pool_box.append(pooling(layer))"
   ]
  },
  {
   "cell_type": "code",
   "execution_count": 27,
   "metadata": {},
   "outputs": [
    {
     "data": {
      "text/plain": [
       "array([[116.        ,   0.        , 115.        , ...,   0.        ,\n",
       "          0.        ,   0.        ],\n",
       "       [116.        ,   0.        , 115.        , ...,   0.        ,\n",
       "          0.        ,   0.        ],\n",
       "       [115.33333333,   0.        , 114.66666667, ...,   0.        ,\n",
       "          0.        ,   0.        ],\n",
       "       ...,\n",
       "       [249.        ,   0.        , 236.33333333, ...,   0.        ,\n",
       "          0.        ,   0.        ],\n",
       "       [  0.        ,   0.        ,   0.        , ...,   0.        ,\n",
       "          0.        ,   0.        ],\n",
       "       [  0.        ,   0.        ,   0.        , ...,   0.        ,\n",
       "          0.        ,   0.        ]])"
      ]
     },
     "execution_count": 27,
     "metadata": {},
     "output_type": "execute_result"
    }
   ],
   "source": [
    "pool_box[4]"
   ]
  },
  {
   "cell_type": "code",
   "execution_count": 45,
   "metadata": {},
   "outputs": [],
   "source": [
    "for layer in pool_box:\n",
    "    cv2.imshow(\"Pooled image\",layer)\n",
    "    cv2.waitKey(0)\n",
    "cv2.destroyAllWindows()"
   ]
  },
  {
   "cell_type": "markdown",
   "metadata": {},
   "source": [
    "I will be honest with you. I don't know if it has worked properly, but I have followed the procedure to the best of my ability."
   ]
  },
  {
   "cell_type": "code",
   "execution_count": null,
   "metadata": {},
   "outputs": [],
   "source": []
  }
 ],
 "metadata": {
  "kernelspec": {
   "display_name": "Python 3",
   "language": "python",
   "name": "python3"
  },
  "language_info": {
   "codemirror_mode": {
    "name": "ipython",
    "version": 3
   },
   "file_extension": ".py",
   "mimetype": "text/x-python",
   "name": "python",
   "nbconvert_exporter": "python",
   "pygments_lexer": "ipython3",
   "version": "3.8.2"
  }
 },
 "nbformat": 4,
 "nbformat_minor": 4
}
